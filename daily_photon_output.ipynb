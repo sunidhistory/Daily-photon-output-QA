{
 "cells": [
  {
   "cell_type": "code",
   "execution_count": 1,
   "id": "82cdcfcb",
   "metadata": {},
   "outputs": [],
   "source": [
    "#This is a simple code that spares you the tidious calculation for everyday daily photon output\n",
    "#setup conditions for the QA are as follows:\n",
    "#gantry, collimator, couch rtn at 0 degrees\n",
    "#ssd=100cm at the top of the phantom\n",
    "#set bias voltage\n",
    "#warmup the chamber by opeing full field size at MU=500\n",
    "#set the filed size at 10*10cm2"
   ]
  },
  {
   "cell_type": "code",
   "execution_count": null,
   "id": "10395cc2",
   "metadata": {},
   "outputs": [],
   "source": [
    "#ndw of the ionchamber\n",
    "ndw=float(input(\"enter the value of ndw of ion chamber used:\"))"
   ]
  },
  {
   "cell_type": "code",
   "execution_count": 12,
   "id": "1615c618",
   "metadata": {},
   "outputs": [
    {
     "name": "stdout",
     "output_type": "stream",
     "text": [
      "enter the value of pressure measured986.9\n",
      "enter the vaue of temperature measured21.7\n",
      "1.0326027224766563\n"
     ]
    }
   ],
   "source": [
    "#ktcp correction factor\n",
    "P0=1013.2\n",
    "T0=20\n",
    "P=float(input(\"enter the value of pressure measured:\"))\n",
    "T=float(input(\"enter the vaue of temperature measured:\"))\n",
    "KTP=(P0/P)*((T+273.15)/(T0+273.15))\n",
    "print(KTP)"
   ]
  },
  {
   "cell_type": "code",
   "execution_count": 13,
   "id": "43d8cc5a",
   "metadata": {},
   "outputs": [
    {
     "name": "stdout",
     "output_type": "stream",
     "text": [
      "Average of the MR_4MV= 11.503\n"
     ]
    }
   ],
   "source": [
    "def Average(MR4):\n",
    "    return sum(MR4) / len(MR4)\n",
    "#enter the observed values from electrometer here\n",
    "MR4 = [11.50,11.50,11.51]\n",
    "average4 = Average(MR4)\n",
    "print(\"Average of the MR_4MV=\", round(average4, 3))"
   ]
  },
  {
   "cell_type": "code",
   "execution_count": 14,
   "id": "6d9b06be",
   "metadata": {},
   "outputs": [
    {
     "name": "stdout",
     "output_type": "stream",
     "text": [
      "Average of the MR_6MV = 12.267\n"
     ]
    }
   ],
   "source": [
    "def Average(MR6):\n",
    "    return sum(MR6) / len(MR6)\n",
    "#enter the observed values from electrometer here\n",
    "MR6 = [12.27,12.26,12.27]\n",
    "average6 = Average(MR6)\n",
    "print(\"Average of the MR_6MV =\", round(average6, 3))"
   ]
  },
  {
   "cell_type": "code",
   "execution_count": 1,
   "id": "e1186794",
   "metadata": {},
   "outputs": [
    {
     "name": "stdout",
     "output_type": "stream",
     "text": [
      "Average of the MR_4MV= 11.503\n"
     ]
    }
   ],
   "source": [
    "def Average(MR10):\n",
    "    return sum(MR10) / len(MR10)\n",
    "#enter the observed values from electrometer here\n",
    "MR10 = [11.50,11.50,11.51]\n",
    "average10 = Average(MR10)\n",
    "print(\"Average of the MR_4MV=\", round(average10, 3))"
   ]
  },
  {
   "cell_type": "code",
   "execution_count": 15,
   "id": "262b8544",
   "metadata": {},
   "outputs": [
    {
     "name": "stdout",
     "output_type": "stream",
     "text": [
      "Average of the MR_15MV = 13.793\n"
     ]
    }
   ],
   "source": [
    "def Average(MR15):\n",
    "    return sum(MR15) / len(MR15)\n",
    "#enter the observed values from electrometer here\n",
    "MR15 = [13.80,13.80,13.78]\n",
    "average15 = Average(MR15)\n",
    "print(\"Average of the MR_15MV =\", round(average15, 3))"
   ]
  },
  {
   "cell_type": "code",
   "execution_count": 2,
   "id": "920690a5",
   "metadata": {},
   "outputs": [
    {
     "name": "stdout",
     "output_type": "stream",
     "text": [
      "enter pdd of 4MV62.99\n",
      "enter pdd of 6MV67.33\n",
      "enter pdd of 15 MV76.36\n",
      "enter kqq0 of 4 MV0.9964\n",
      "enter kqq0 of 6 MV0.9904\n",
      "enter kqq0 of 15 MV0.97395\n"
     ]
    }
   ],
   "source": [
    "pdd4=float(input(\"enter pdd of 4MV:\"))\n",
    "pdd6=float(input(\"enter pdd of 6MV:\"))\n",
    "pdd10=float(input(\"enter pdd of 10MV:\"))\n",
    "pdd15=float(input(\"enter pdd of 15 MV:\"))\n",
    "Kqq04=float(input(\"enter kqq0 of 4 MV:\"))\n",
    "Kqq06=float(input(\"enter kqq0 of 6 MV:\"))\n",
    "Kqq010=float(input(\"enter kqq0 of 10MV:\"))\n",
    "Kqq015=float(input(\"enter kqq0 of 15 MV:\"))"
   ]
  },
  {
   "cell_type": "code",
   "execution_count": 3,
   "id": "6879ba16",
   "metadata": {},
   "outputs": [
    {
     "ename": "NameError",
     "evalue": "name 'average4' is not defined",
     "output_type": "error",
     "traceback": [
      "\u001b[1;31m---------------------------------------------------------------------------\u001b[0m",
      "\u001b[1;31mNameError\u001b[0m                                 Traceback (most recent call last)",
      "Input \u001b[1;32mIn [3]\u001b[0m, in \u001b[0;36m<cell line: 2>\u001b[1;34m()\u001b[0m\n\u001b[0;32m      1\u001b[0m \u001b[38;5;66;03m#output\u001b[39;00m\n\u001b[1;32m----> 2\u001b[0m Output4MV\u001b[38;5;241m=\u001b[39m(\u001b[43maverage4\u001b[49m\u001b[38;5;241m*\u001b[39mKTP\u001b[38;5;241m*\u001b[39mndw\u001b[38;5;241m*\u001b[39mKqq04)\u001b[38;5;241m/\u001b[39mpdd4\n\u001b[0;32m      3\u001b[0m \u001b[38;5;28mprint\u001b[39m(Output4MV)\n\u001b[0;32m      4\u001b[0m Output6MV\u001b[38;5;241m=\u001b[39m(average6\u001b[38;5;241m*\u001b[39mKTP\u001b[38;5;241m*\u001b[39mndw\u001b[38;5;241m*\u001b[39mKqq06)\u001b[38;5;241m/\u001b[39mpdd6\n",
      "\u001b[1;31mNameError\u001b[0m: name 'average4' is not defined"
     ]
    }
   ],
   "source": [
    "#output\n",
    "Output4MV=(average4*KTP*ndw*Kqq04)/pdd4\n",
    "print(Output4MV)\n",
    "Output6MV=(average6*KTP*ndw*Kqq06)/pdd6\n",
    "print(Output6MV)\n",
    "Output10MV=(average6*KTP*ndw*Kqq010)/pdd10\n",
    "print(Output10MV)\n",
    "Output15MV=(average15*KTP*ndw*Kqq015)/pdd15\n",
    "print(Output15MV)"
   ]
  },
  {
   "cell_type": "code",
   "execution_count": 4,
   "id": "839ba04e",
   "metadata": {},
   "outputs": [
    {
     "ename": "SyntaxError",
     "evalue": "invalid syntax (1031629675.py, line 5)",
     "output_type": "error",
     "traceback": [
      "\u001b[1;36m  Input \u001b[1;32mIn [4]\u001b[1;36m\u001b[0m\n\u001b[1;33m    PD4=((output4MV-B4)/B4)100\u001b[0m\n\u001b[1;37m                           ^\u001b[0m\n\u001b[1;31mSyntaxError\u001b[0m\u001b[1;31m:\u001b[0m invalid syntax\n"
     ]
    }
   ],
   "source": [
    "B4=float(input(\"enter baseline for 4MV:\"))\n",
    "B6=float(input(\"enter baseline for 6MV:\"))\n",
    "B10=float(input(\"enter baseline for 10MV:\"))\n",
    "B15=float(input(\"enter baseline for 15MV:\"))\n",
    "PD4=((output4MV-B4)/B4)100 \n",
    "PD6=((output6MV-B6)/B4)100 \n",
    "PD10=((output10MV-B10)/B10)100 \n",
    "PD15=((output15MV-B15)/B15)*100"
   ]
  },
  {
   "cell_type": "code",
   "execution_count": 1,
   "id": "095be807",
   "metadata": {},
   "outputs": [
    {
     "ename": "NameError",
     "evalue": "name 'PD4' is not defined",
     "output_type": "error",
     "traceback": [
      "\u001b[1;31m---------------------------------------------------------------------------\u001b[0m",
      "\u001b[1;31mNameError\u001b[0m                                 Traceback (most recent call last)",
      "Input \u001b[1;32mIn [1]\u001b[0m, in \u001b[0;36m<cell line: 1>\u001b[1;34m()\u001b[0m\n\u001b[1;32m----> 1\u001b[0m \u001b[38;5;28;01mif\u001b[39;00m \u001b[43mPD4\u001b[49m\u001b[38;5;241m<\u001b[39m \u001b[38;5;241m3\u001b[39m:\n\u001b[0;32m      2\u001b[0m     \u001b[38;5;28mprint\u001b[39m(\u001b[38;5;124m\"\u001b[39m\u001b[38;5;124moutput for 4MV within tolerance limit\u001b[39m\u001b[38;5;124m\"\u001b[39m)\n\u001b[0;32m      3\u001b[0m \u001b[38;5;28;01mif\u001b[39;00m PD6\u001b[38;5;241m<\u001b[39m \u001b[38;5;241m3\u001b[39m:\n",
      "\u001b[1;31mNameError\u001b[0m: name 'PD4' is not defined"
     ]
    }
   ],
   "source": [
    "if PD4< 3:\n",
    "    print(\"output for 4MV within tolerance limit\")\n",
    "if PD6< 3:\n",
    "    print(\"output for 6MV within tolerance limit\")\n",
    "if PD10< 3:\n",
    "    print(\"output for 10MV within tolerance limit\")\n",
    "if PD15< 3:\n",
    "    print(\"output for 15MV within tolerance limit\")"
   ]
  },
  {
   "cell_type": "code",
   "execution_count": null,
   "id": "c2524e8c",
   "metadata": {},
   "outputs": [],
   "source": []
  }
 ],
 "metadata": {
  "kernelspec": {
   "display_name": "Python 3 (ipykernel)",
   "language": "python",
   "name": "python3"
  },
  "language_info": {
   "codemirror_mode": {
    "name": "ipython",
    "version": 3
   },
   "file_extension": ".py",
   "mimetype": "text/x-python",
   "name": "python",
   "nbconvert_exporter": "python",
   "pygments_lexer": "ipython3",
   "version": "3.9.5"
  }
 },
 "nbformat": 4,
 "nbformat_minor": 5
}
